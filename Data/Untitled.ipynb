{
 "cells": [
  {
   "cell_type": "code",
   "execution_count": 1,
   "id": "6b324a1b",
   "metadata": {},
   "outputs": [],
   "source": [
    "import pandas as pd\n",
    "import numpy as np\n",
    "import seaborn as sns\n",
    "import matplotlib.pyplot as plt\n",
    "%matplotlib inline"
   ]
  },
  {
   "cell_type": "code",
   "execution_count": 2,
   "id": "4d2fcbfb",
   "metadata": {},
   "outputs": [],
   "source": [
    "data = pd.read_csv(\"Bikes.csv\")"
   ]
  },
  {
   "cell_type": "code",
   "execution_count": 3,
   "id": "baa5d09f",
   "metadata": {},
   "outputs": [
    {
     "data": {
      "text/html": [
       "<div>\n",
       "<style scoped>\n",
       "    .dataframe tbody tr th:only-of-type {\n",
       "        vertical-align: middle;\n",
       "    }\n",
       "\n",
       "    .dataframe tbody tr th {\n",
       "        vertical-align: top;\n",
       "    }\n",
       "\n",
       "    .dataframe thead th {\n",
       "        text-align: right;\n",
       "    }\n",
       "</style>\n",
       "<table border=\"1\" class=\"dataframe\">\n",
       "  <thead>\n",
       "    <tr style=\"text-align: right;\">\n",
       "      <th></th>\n",
       "      <th>bike_name</th>\n",
       "      <th>price</th>\n",
       "      <th>city</th>\n",
       "      <th>kms_driven</th>\n",
       "      <th>owner</th>\n",
       "      <th>age</th>\n",
       "      <th>power</th>\n",
       "      <th>brand</th>\n",
       "    </tr>\n",
       "  </thead>\n",
       "  <tbody>\n",
       "    <tr>\n",
       "      <th>0</th>\n",
       "      <td>TVS Star City Plus Dual Tone 110cc</td>\n",
       "      <td>35000.0</td>\n",
       "      <td>Ahmedabad</td>\n",
       "      <td>17654.0</td>\n",
       "      <td>First Owner</td>\n",
       "      <td>3.0</td>\n",
       "      <td>110.0</td>\n",
       "      <td>TVS</td>\n",
       "    </tr>\n",
       "    <tr>\n",
       "      <th>1</th>\n",
       "      <td>Royal Enfield Classic 350cc</td>\n",
       "      <td>119900.0</td>\n",
       "      <td>Delhi</td>\n",
       "      <td>11000.0</td>\n",
       "      <td>First Owner</td>\n",
       "      <td>4.0</td>\n",
       "      <td>350.0</td>\n",
       "      <td>Royal Enfield</td>\n",
       "    </tr>\n",
       "    <tr>\n",
       "      <th>2</th>\n",
       "      <td>Triumph Daytona 675R</td>\n",
       "      <td>600000.0</td>\n",
       "      <td>Delhi</td>\n",
       "      <td>110.0</td>\n",
       "      <td>First Owner</td>\n",
       "      <td>8.0</td>\n",
       "      <td>675.0</td>\n",
       "      <td>Triumph</td>\n",
       "    </tr>\n",
       "    <tr>\n",
       "      <th>3</th>\n",
       "      <td>TVS Apache RTR 180cc</td>\n",
       "      <td>65000.0</td>\n",
       "      <td>Bangalore</td>\n",
       "      <td>16329.0</td>\n",
       "      <td>First Owner</td>\n",
       "      <td>4.0</td>\n",
       "      <td>180.0</td>\n",
       "      <td>TVS</td>\n",
       "    </tr>\n",
       "    <tr>\n",
       "      <th>4</th>\n",
       "      <td>Yamaha FZ S V 2.0 150cc-Ltd. Edition</td>\n",
       "      <td>80000.0</td>\n",
       "      <td>Bangalore</td>\n",
       "      <td>10000.0</td>\n",
       "      <td>First Owner</td>\n",
       "      <td>3.0</td>\n",
       "      <td>150.0</td>\n",
       "      <td>Yamaha</td>\n",
       "    </tr>\n",
       "  </tbody>\n",
       "</table>\n",
       "</div>"
      ],
      "text/plain": [
       "                              bike_name     price       city  kms_driven  \\\n",
       "0    TVS Star City Plus Dual Tone 110cc   35000.0  Ahmedabad     17654.0   \n",
       "1           Royal Enfield Classic 350cc  119900.0      Delhi     11000.0   \n",
       "2                  Triumph Daytona 675R  600000.0      Delhi       110.0   \n",
       "3                  TVS Apache RTR 180cc   65000.0  Bangalore     16329.0   \n",
       "4  Yamaha FZ S V 2.0 150cc-Ltd. Edition   80000.0  Bangalore     10000.0   \n",
       "\n",
       "         owner  age  power          brand  \n",
       "0  First Owner  3.0  110.0            TVS  \n",
       "1  First Owner  4.0  350.0  Royal Enfield  \n",
       "2  First Owner  8.0  675.0        Triumph  \n",
       "3  First Owner  4.0  180.0            TVS  \n",
       "4  First Owner  3.0  150.0         Yamaha  "
      ]
     },
     "execution_count": 3,
     "metadata": {},
     "output_type": "execute_result"
    }
   ],
   "source": [
    "data.head()"
   ]
  },
  {
   "cell_type": "code",
   "execution_count": 4,
   "id": "0795469b",
   "metadata": {},
   "outputs": [
    {
     "data": {
      "text/html": [
       "<div>\n",
       "<style scoped>\n",
       "    .dataframe tbody tr th:only-of-type {\n",
       "        vertical-align: middle;\n",
       "    }\n",
       "\n",
       "    .dataframe tbody tr th {\n",
       "        vertical-align: top;\n",
       "    }\n",
       "\n",
       "    .dataframe thead th {\n",
       "        text-align: right;\n",
       "    }\n",
       "</style>\n",
       "<table border=\"1\" class=\"dataframe\">\n",
       "  <thead>\n",
       "    <tr style=\"text-align: right;\">\n",
       "      <th></th>\n",
       "      <th>bike_name</th>\n",
       "      <th>price</th>\n",
       "      <th>city</th>\n",
       "      <th>kms_driven</th>\n",
       "      <th>owner</th>\n",
       "      <th>age</th>\n",
       "      <th>power</th>\n",
       "      <th>brand</th>\n",
       "    </tr>\n",
       "  </thead>\n",
       "  <tbody>\n",
       "    <tr>\n",
       "      <th>32643</th>\n",
       "      <td>Hero Passion Pro 100cc</td>\n",
       "      <td>39000.0</td>\n",
       "      <td>Delhi</td>\n",
       "      <td>22000.0</td>\n",
       "      <td>First Owner</td>\n",
       "      <td>4.0</td>\n",
       "      <td>100.0</td>\n",
       "      <td>Hero</td>\n",
       "    </tr>\n",
       "    <tr>\n",
       "      <th>32644</th>\n",
       "      <td>TVS Apache RTR 180cc</td>\n",
       "      <td>30000.0</td>\n",
       "      <td>Karnal</td>\n",
       "      <td>6639.0</td>\n",
       "      <td>First Owner</td>\n",
       "      <td>9.0</td>\n",
       "      <td>180.0</td>\n",
       "      <td>TVS</td>\n",
       "    </tr>\n",
       "    <tr>\n",
       "      <th>32645</th>\n",
       "      <td>Bajaj Avenger Street 220</td>\n",
       "      <td>60000.0</td>\n",
       "      <td>Delhi</td>\n",
       "      <td>20373.0</td>\n",
       "      <td>First Owner</td>\n",
       "      <td>6.0</td>\n",
       "      <td>220.0</td>\n",
       "      <td>Bajaj</td>\n",
       "    </tr>\n",
       "    <tr>\n",
       "      <th>32646</th>\n",
       "      <td>Hero Super Splendor 125cc</td>\n",
       "      <td>15600.0</td>\n",
       "      <td>Jaipur</td>\n",
       "      <td>84186.0</td>\n",
       "      <td>First Owner</td>\n",
       "      <td>16.0</td>\n",
       "      <td>125.0</td>\n",
       "      <td>Hero</td>\n",
       "    </tr>\n",
       "    <tr>\n",
       "      <th>32647</th>\n",
       "      <td>Bajaj Pulsar 150cc</td>\n",
       "      <td>22000.0</td>\n",
       "      <td>Pune</td>\n",
       "      <td>60857.0</td>\n",
       "      <td>First Owner</td>\n",
       "      <td>13.0</td>\n",
       "      <td>150.0</td>\n",
       "      <td>Bajaj</td>\n",
       "    </tr>\n",
       "  </tbody>\n",
       "</table>\n",
       "</div>"
      ],
      "text/plain": [
       "                       bike_name    price    city  kms_driven        owner  \\\n",
       "32643     Hero Passion Pro 100cc  39000.0   Delhi     22000.0  First Owner   \n",
       "32644       TVS Apache RTR 180cc  30000.0  Karnal      6639.0  First Owner   \n",
       "32645   Bajaj Avenger Street 220  60000.0   Delhi     20373.0  First Owner   \n",
       "32646  Hero Super Splendor 125cc  15600.0  Jaipur     84186.0  First Owner   \n",
       "32647         Bajaj Pulsar 150cc  22000.0    Pune     60857.0  First Owner   \n",
       "\n",
       "        age  power  brand  \n",
       "32643   4.0  100.0   Hero  \n",
       "32644   9.0  180.0    TVS  \n",
       "32645   6.0  220.0  Bajaj  \n",
       "32646  16.0  125.0   Hero  \n",
       "32647  13.0  150.0  Bajaj  "
      ]
     },
     "execution_count": 4,
     "metadata": {},
     "output_type": "execute_result"
    }
   ],
   "source": [
    "data.tail()"
   ]
  },
  {
   "cell_type": "code",
   "execution_count": 5,
   "id": "9ea41682",
   "metadata": {},
   "outputs": [
    {
     "data": {
      "text/plain": [
       "(32648, 8)"
      ]
     },
     "execution_count": 5,
     "metadata": {},
     "output_type": "execute_result"
    }
   ],
   "source": [
    "data.shape"
   ]
  },
  {
   "cell_type": "code",
   "execution_count": 6,
   "id": "bd6a2feb",
   "metadata": {},
   "outputs": [
    {
     "name": "stdout",
     "output_type": "stream",
     "text": [
      "<class 'pandas.core.frame.DataFrame'>\n",
      "RangeIndex: 32648 entries, 0 to 32647\n",
      "Data columns (total 8 columns):\n",
      " #   Column      Non-Null Count  Dtype  \n",
      "---  ------      --------------  -----  \n",
      " 0   bike_name   32648 non-null  object \n",
      " 1   price       32648 non-null  float64\n",
      " 2   city        32648 non-null  object \n",
      " 3   kms_driven  32648 non-null  float64\n",
      " 4   owner       32648 non-null  object \n",
      " 5   age         32648 non-null  float64\n",
      " 6   power       32648 non-null  float64\n",
      " 7   brand       32648 non-null  object \n",
      "dtypes: float64(4), object(4)\n",
      "memory usage: 2.0+ MB\n"
     ]
    }
   ],
   "source": [
    "data.info()"
   ]
  },
  {
   "cell_type": "code",
   "execution_count": 7,
   "id": "b3c64b82",
   "metadata": {},
   "outputs": [
    {
     "data": {
      "text/html": [
       "<div>\n",
       "<style scoped>\n",
       "    .dataframe tbody tr th:only-of-type {\n",
       "        vertical-align: middle;\n",
       "    }\n",
       "\n",
       "    .dataframe tbody tr th {\n",
       "        vertical-align: top;\n",
       "    }\n",
       "\n",
       "    .dataframe thead th {\n",
       "        text-align: right;\n",
       "    }\n",
       "</style>\n",
       "<table border=\"1\" class=\"dataframe\">\n",
       "  <thead>\n",
       "    <tr style=\"text-align: right;\">\n",
       "      <th></th>\n",
       "      <th>price</th>\n",
       "      <th>kms_driven</th>\n",
       "      <th>age</th>\n",
       "      <th>power</th>\n",
       "    </tr>\n",
       "  </thead>\n",
       "  <tbody>\n",
       "    <tr>\n",
       "      <th>count</th>\n",
       "      <td>3.264800e+04</td>\n",
       "      <td>32648.000000</td>\n",
       "      <td>32648.000000</td>\n",
       "      <td>32648.000000</td>\n",
       "    </tr>\n",
       "    <tr>\n",
       "      <th>mean</th>\n",
       "      <td>6.829542e+04</td>\n",
       "      <td>26344.625184</td>\n",
       "      <td>8.048211</td>\n",
       "      <td>213.511302</td>\n",
       "    </tr>\n",
       "    <tr>\n",
       "      <th>std</th>\n",
       "      <td>9.071860e+04</td>\n",
       "      <td>22208.527695</td>\n",
       "      <td>4.031700</td>\n",
       "      <td>134.428868</td>\n",
       "    </tr>\n",
       "    <tr>\n",
       "      <th>min</th>\n",
       "      <td>4.400000e+03</td>\n",
       "      <td>1.000000</td>\n",
       "      <td>1.000000</td>\n",
       "      <td>100.000000</td>\n",
       "    </tr>\n",
       "    <tr>\n",
       "      <th>25%</th>\n",
       "      <td>2.500000e+04</td>\n",
       "      <td>12000.000000</td>\n",
       "      <td>5.000000</td>\n",
       "      <td>150.000000</td>\n",
       "    </tr>\n",
       "    <tr>\n",
       "      <th>50%</th>\n",
       "      <td>4.300000e+04</td>\n",
       "      <td>20373.000000</td>\n",
       "      <td>7.000000</td>\n",
       "      <td>150.000000</td>\n",
       "    </tr>\n",
       "    <tr>\n",
       "      <th>75%</th>\n",
       "      <td>8.000000e+04</td>\n",
       "      <td>35000.000000</td>\n",
       "      <td>10.000000</td>\n",
       "      <td>220.000000</td>\n",
       "    </tr>\n",
       "    <tr>\n",
       "      <th>max</th>\n",
       "      <td>1.900000e+06</td>\n",
       "      <td>750000.000000</td>\n",
       "      <td>63.000000</td>\n",
       "      <td>1800.000000</td>\n",
       "    </tr>\n",
       "  </tbody>\n",
       "</table>\n",
       "</div>"
      ],
      "text/plain": [
       "              price     kms_driven           age         power\n",
       "count  3.264800e+04   32648.000000  32648.000000  32648.000000\n",
       "mean   6.829542e+04   26344.625184      8.048211    213.511302\n",
       "std    9.071860e+04   22208.527695      4.031700    134.428868\n",
       "min    4.400000e+03       1.000000      1.000000    100.000000\n",
       "25%    2.500000e+04   12000.000000      5.000000    150.000000\n",
       "50%    4.300000e+04   20373.000000      7.000000    150.000000\n",
       "75%    8.000000e+04   35000.000000     10.000000    220.000000\n",
       "max    1.900000e+06  750000.000000     63.000000   1800.000000"
      ]
     },
     "execution_count": 7,
     "metadata": {},
     "output_type": "execute_result"
    }
   ],
   "source": [
    "data.describe()"
   ]
  },
  {
   "cell_type": "code",
   "execution_count": 8,
   "id": "19504212",
   "metadata": {},
   "outputs": [
    {
     "data": {
      "text/plain": [
       "bike_name     0\n",
       "price         0\n",
       "city          0\n",
       "kms_driven    0\n",
       "owner         0\n",
       "age           0\n",
       "power         0\n",
       "brand         0\n",
       "dtype: int64"
      ]
     },
     "execution_count": 8,
     "metadata": {},
     "output_type": "execute_result"
    }
   ],
   "source": [
    "data.isnull().sum()"
   ]
  },
  {
   "cell_type": "code",
   "execution_count": 9,
   "id": "c30165ed",
   "metadata": {},
   "outputs": [
    {
     "data": {
      "text/plain": [
       "25324"
      ]
     },
     "execution_count": 9,
     "metadata": {},
     "output_type": "execute_result"
    }
   ],
   "source": [
    "data.duplicated().sum()"
   ]
  },
  {
   "cell_type": "code",
   "execution_count": 10,
   "id": "50c89557",
   "metadata": {},
   "outputs": [],
   "source": [
    "data = data.drop_duplicates()"
   ]
  },
  {
   "cell_type": "code",
   "execution_count": 11,
   "id": "2845e524",
   "metadata": {},
   "outputs": [
    {
     "data": {
      "text/html": [
       "<div>\n",
       "<style scoped>\n",
       "    .dataframe tbody tr th:only-of-type {\n",
       "        vertical-align: middle;\n",
       "    }\n",
       "\n",
       "    .dataframe tbody tr th {\n",
       "        vertical-align: top;\n",
       "    }\n",
       "\n",
       "    .dataframe thead th {\n",
       "        text-align: right;\n",
       "    }\n",
       "</style>\n",
       "<table border=\"1\" class=\"dataframe\">\n",
       "  <thead>\n",
       "    <tr style=\"text-align: right;\">\n",
       "      <th></th>\n",
       "      <th>bike_name</th>\n",
       "      <th>price</th>\n",
       "      <th>city</th>\n",
       "      <th>kms_driven</th>\n",
       "      <th>owner</th>\n",
       "      <th>age</th>\n",
       "      <th>power</th>\n",
       "      <th>brand</th>\n",
       "    </tr>\n",
       "  </thead>\n",
       "  <tbody>\n",
       "    <tr>\n",
       "      <th>0</th>\n",
       "      <td>TVS Star City Plus Dual Tone 110cc</td>\n",
       "      <td>35000.0</td>\n",
       "      <td>Ahmedabad</td>\n",
       "      <td>17654.0</td>\n",
       "      <td>First Owner</td>\n",
       "      <td>3.0</td>\n",
       "      <td>110.0</td>\n",
       "      <td>TVS</td>\n",
       "    </tr>\n",
       "    <tr>\n",
       "      <th>1</th>\n",
       "      <td>Royal Enfield Classic 350cc</td>\n",
       "      <td>119900.0</td>\n",
       "      <td>Delhi</td>\n",
       "      <td>11000.0</td>\n",
       "      <td>First Owner</td>\n",
       "      <td>4.0</td>\n",
       "      <td>350.0</td>\n",
       "      <td>Royal Enfield</td>\n",
       "    </tr>\n",
       "    <tr>\n",
       "      <th>2</th>\n",
       "      <td>Triumph Daytona 675R</td>\n",
       "      <td>600000.0</td>\n",
       "      <td>Delhi</td>\n",
       "      <td>110.0</td>\n",
       "      <td>First Owner</td>\n",
       "      <td>8.0</td>\n",
       "      <td>675.0</td>\n",
       "      <td>Triumph</td>\n",
       "    </tr>\n",
       "    <tr>\n",
       "      <th>3</th>\n",
       "      <td>TVS Apache RTR 180cc</td>\n",
       "      <td>65000.0</td>\n",
       "      <td>Bangalore</td>\n",
       "      <td>16329.0</td>\n",
       "      <td>First Owner</td>\n",
       "      <td>4.0</td>\n",
       "      <td>180.0</td>\n",
       "      <td>TVS</td>\n",
       "    </tr>\n",
       "    <tr>\n",
       "      <th>4</th>\n",
       "      <td>Yamaha FZ S V 2.0 150cc-Ltd. Edition</td>\n",
       "      <td>80000.0</td>\n",
       "      <td>Bangalore</td>\n",
       "      <td>10000.0</td>\n",
       "      <td>First Owner</td>\n",
       "      <td>3.0</td>\n",
       "      <td>150.0</td>\n",
       "      <td>Yamaha</td>\n",
       "    </tr>\n",
       "  </tbody>\n",
       "</table>\n",
       "</div>"
      ],
      "text/plain": [
       "                              bike_name     price       city  kms_driven  \\\n",
       "0    TVS Star City Plus Dual Tone 110cc   35000.0  Ahmedabad     17654.0   \n",
       "1           Royal Enfield Classic 350cc  119900.0      Delhi     11000.0   \n",
       "2                  Triumph Daytona 675R  600000.0      Delhi       110.0   \n",
       "3                  TVS Apache RTR 180cc   65000.0  Bangalore     16329.0   \n",
       "4  Yamaha FZ S V 2.0 150cc-Ltd. Edition   80000.0  Bangalore     10000.0   \n",
       "\n",
       "         owner  age  power          brand  \n",
       "0  First Owner  3.0  110.0            TVS  \n",
       "1  First Owner  4.0  350.0  Royal Enfield  \n",
       "2  First Owner  8.0  675.0        Triumph  \n",
       "3  First Owner  4.0  180.0            TVS  \n",
       "4  First Owner  3.0  150.0         Yamaha  "
      ]
     },
     "execution_count": 11,
     "metadata": {},
     "output_type": "execute_result"
    }
   ],
   "source": [
    "data.head()"
   ]
  },
  {
   "cell_type": "markdown",
   "id": "576bf8a7",
   "metadata": {},
   "source": [
    "### EDA"
   ]
  },
  {
   "cell_type": "code",
   "execution_count": 12,
   "id": "78971eb8",
   "metadata": {},
   "outputs": [
    {
     "data": {
      "text/plain": [
       "array(['TVS', 'Royal Enfield', 'Triumph', 'Yamaha', 'Honda', 'Hero',\n",
       "       'Bajaj', 'Suzuki', 'Benelli', 'KTM', 'Mahindra', 'Kawasaki',\n",
       "       'Ducati', 'Hyosung', 'Harley-Davidson', 'Jawa', 'BMW', 'Indian',\n",
       "       'Rajdoot', 'LML', 'Yezdi', 'MV', 'Ideal'], dtype=object)"
      ]
     },
     "execution_count": 12,
     "metadata": {},
     "output_type": "execute_result"
    }
   ],
   "source": [
    "data[\"brand\"].unique()"
   ]
  },
  {
   "cell_type": "code",
   "execution_count": 13,
   "id": "8342fc17",
   "metadata": {},
   "outputs": [
    {
     "data": {
      "text/plain": [
       "Bajaj              2081\n",
       "Royal Enfield      1346\n",
       "Hero               1142\n",
       "Honda               676\n",
       "Yamaha              651\n",
       "TVS                 481\n",
       "KTM                 375\n",
       "Suzuki              203\n",
       "Harley-Davidson      91\n",
       "Kawasaki             61\n",
       "Hyosung              53\n",
       "Mahindra             50\n",
       "Benelli              46\n",
       "Triumph              21\n",
       "Ducati               20\n",
       "BMW                  10\n",
       "Jawa                  7\n",
       "Indian                3\n",
       "MV                    3\n",
       "Ideal                 1\n",
       "LML                   1\n",
       "Rajdoot               1\n",
       "Yezdi                 1\n",
       "Name: brand, dtype: int64"
      ]
     },
     "execution_count": 13,
     "metadata": {},
     "output_type": "execute_result"
    }
   ],
   "source": [
    "data[\"brand\"].value_counts()"
   ]
  },
  {
   "cell_type": "code",
   "execution_count": 14,
   "id": "537f8964",
   "metadata": {},
   "outputs": [
    {
     "data": {
      "text/plain": [
       "<Axes: xlabel='count', ylabel='brand'>"
      ]
     },
     "execution_count": 14,
     "metadata": {},
     "output_type": "execute_result"
    },
    {
     "data": {
      "image/png": "[encoded data removed]",
      "text/plain": [
       "<Figure size 1400x800 with 1 Axes>"
      ]
     },
     "metadata": {},
     "output_type": "display_data"
    }
   ],
   "source": [
    "plt.figure(figsize=(14 , 8))\n",
    "sns.countplot(data = data , y = \"brand\")"
   ]
  },
  {
   "cell_type": "code",
   "execution_count": 15,
   "id": "6847e565",
   "metadata": {},
   "outputs": [
    {
     "data": {
      "text/plain": [
       "array([ 3.,  4.,  8.,  6.,  7.,  5.,  2., 16., 13.,  9., 10., 14., 12.,\n",
       "       11.,  1., 15., 39., 17., 18., 30., 19., 23., 41., 27., 37., 24.,\n",
       "       20., 43., 38., 63., 34., 31., 22., 26., 25.])"
      ]
     },
     "execution_count": 15,
     "metadata": {},
     "output_type": "execute_result"
    }
   ],
   "source": [
    "data[\"age\"].unique()"
   ]
  },
  {
   "cell_type": "code",
   "execution_count": 16,
   "id": "14e2e7de",
   "metadata": {},
   "outputs": [
    {
     "data": {
      "text/plain": [
       "5.0     1211\n",
       "4.0     1083\n",
       "6.0      901\n",
       "3.0      749\n",
       "7.0      742\n",
       "8.0      576\n",
       "9.0      476\n",
       "10.0     372\n",
       "2.0      296\n",
       "11.0     285\n",
       "12.0     182\n",
       "13.0     135\n",
       "14.0      91\n",
       "15.0      69\n",
       "16.0      57\n",
       "17.0      30\n",
       "18.0      20\n",
       "1.0        9\n",
       "24.0       7\n",
       "19.0       6\n",
       "20.0       4\n",
       "25.0       3\n",
       "39.0       3\n",
       "43.0       2\n",
       "41.0       2\n",
       "23.0       2\n",
       "27.0       2\n",
       "37.0       2\n",
       "26.0       1\n",
       "38.0       1\n",
       "30.0       1\n",
       "22.0       1\n",
       "63.0       1\n",
       "31.0       1\n",
       "34.0       1\n",
       "Name: age, dtype: int64"
      ]
     },
     "execution_count": 16,
     "metadata": {},
     "output_type": "execute_result"
    }
   ],
   "source": [
    "data[\"age\"].value_counts()"
   ]
  },
  {
   "cell_type": "code",
   "execution_count": 17,
   "id": "a5489e52",
   "metadata": {},
   "outputs": [
    {
     "data": {
      "text/plain": [
       "<Axes: xlabel='age', ylabel='count'>"
      ]
     },
     "execution_count": 17,
     "metadata": {},
     "output_type": "execute_result"
    },
    {
     "data": {
      "image/png": "[encoded data removed]",
      "text/plain": [
       "<Figure size 1400x800 with 1 Axes>"
      ]
     },
     "metadata": {},
     "output_type": "display_data"
    }
   ],
   "source": [
    "plt.figure(figsize=(14 , 8))\n",
    "sns.countplot(x=\"age\", data=data)"
   ]
  },
  {
   "cell_type": "code",
   "execution_count": 18,
   "id": "f5f330b8",
   "metadata": {},
   "outputs": [
    {
     "data": {
      "text/plain": [
       "array(['First Owner', 'Second Owner', 'Third Owner',\n",
       "       'Fourth Owner Or More'], dtype=object)"
      ]
     },
     "execution_count": 18,
     "metadata": {},
     "output_type": "execute_result"
    }
   ],
   "source": [
    "data[\"owner\"].unique()"
   ]
  },
  {
   "cell_type": "code",
   "execution_count": 19,
   "id": "f5515fb6",
   "metadata": {},
   "outputs": [
    {
     "data": {
      "text/plain": [
       "First Owner             6642\n",
       "Second Owner             588\n",
       "Third Owner               84\n",
       "Fourth Owner Or More      10\n",
       "Name: owner, dtype: int64"
      ]
     },
     "execution_count": 19,
     "metadata": {},
     "output_type": "execute_result"
    }
   ],
   "source": [
    "data[\"owner\"].value_counts()"
   ]
  },
  {
   "cell_type": "code",
   "execution_count": 20,
   "id": "d3e321e4",
   "metadata": {},
   "outputs": [
    {
     "data": {
      "text/plain": [
       "<Axes: xlabel='owner', ylabel='count'>"
      ]
     },
     "execution_count": 20,
     "metadata": {},
     "output_type": "execute_result"
    },
    {
     "data": {
      "image/png": "[encoded data removed]",
      "text/plain": [
       "<Figure size 1400x500 with 1 Axes>"
      ]
     },
     "metadata": {},
     "output_type": "display_data"
    }
   ],
   "source": [
    "plt.figure(figsize=(14 , 5))\n",
    "sns.countplot(data=data , x = \"owner\")"
   ]
  },
  {
   "cell_type": "code",
   "execution_count": 21,
   "id": "c6997a9c",
   "metadata": {},
   "outputs": [
    {
     "data": {
      "text/plain": [
       "<Axes: xlabel='kms_driven', ylabel='Count'>"
      ]
     },
     "execution_count": 21,
     "metadata": {},
     "output_type": "execute_result"
    },
    {
     "data": {
      "image/png": "[encoded data removed]",
      "text/plain": [
       "<Figure size 1000x500 with 1 Axes>"
      ]
     },
     "metadata": {},
     "output_type": "display_data"
    }
   ],
   "source": [
    "plt.figure(figsize=(10 , 5))\n",
    "sns.histplot(data=data , x = \"kms_driven\", bins=100)"
   ]
  },
  {
   "cell_type": "markdown",
   "id": "d2075e55",
   "metadata": {},
   "source": [
    "### BiVariate Analysis"
   ]
  },
  {
   "cell_type": "code",
   "execution_count": 22,
   "id": "9bc2fd3f",
   "metadata": {},
   "outputs": [
    {
     "data": {
      "text/html": [
       "<div>\n",
       "<style scoped>\n",
       "    .dataframe tbody tr th:only-of-type {\n",
       "        vertical-align: middle;\n",
       "    }\n",
       "\n",
       "    .dataframe tbody tr th {\n",
       "        vertical-align: top;\n",
       "    }\n",
       "\n",
       "    .dataframe thead th {\n",
       "        text-align: right;\n",
       "    }\n",
       "</style>\n",
       "<table border=\"1\" class=\"dataframe\">\n",
       "  <thead>\n",
       "    <tr style=\"text-align: right;\">\n",
       "      <th></th>\n",
       "      <th>bike_name</th>\n",
       "      <th>price</th>\n",
       "      <th>city</th>\n",
       "      <th>kms_driven</th>\n",
       "      <th>owner</th>\n",
       "      <th>age</th>\n",
       "      <th>power</th>\n",
       "      <th>brand</th>\n",
       "    </tr>\n",
       "  </thead>\n",
       "  <tbody>\n",
       "    <tr>\n",
       "      <th>0</th>\n",
       "      <td>TVS Star City Plus Dual Tone 110cc</td>\n",
       "      <td>35000.0</td>\n",
       "      <td>Ahmedabad</td>\n",
       "      <td>17654.0</td>\n",
       "      <td>First Owner</td>\n",
       "      <td>3.0</td>\n",
       "      <td>110.0</td>\n",
       "      <td>TVS</td>\n",
       "    </tr>\n",
       "    <tr>\n",
       "      <th>1</th>\n",
       "      <td>Royal Enfield Classic 350cc</td>\n",
       "      <td>119900.0</td>\n",
       "      <td>Delhi</td>\n",
       "      <td>11000.0</td>\n",
       "      <td>First Owner</td>\n",
       "      <td>4.0</td>\n",
       "      <td>350.0</td>\n",
       "      <td>Royal Enfield</td>\n",
       "    </tr>\n",
       "  </tbody>\n",
       "</table>\n",
       "</div>"
      ],
      "text/plain": [
       "                            bike_name     price       city  kms_driven  \\\n",
       "0  TVS Star City Plus Dual Tone 110cc   35000.0  Ahmedabad     17654.0   \n",
       "1         Royal Enfield Classic 350cc  119900.0      Delhi     11000.0   \n",
       "\n",
       "         owner  age  power          brand  \n",
       "0  First Owner  3.0  110.0            TVS  \n",
       "1  First Owner  4.0  350.0  Royal Enfield  "
      ]
     },
     "execution_count": 22,
     "metadata": {},
     "output_type": "execute_result"
    }
   ],
   "source": [
    "data.head(2)"
   ]
  },
  {
   "cell_type": "code",
   "execution_count": 63,
   "id": "61c04cf4",
   "metadata": {},
   "outputs": [],
   "source": [
    "top_20_barnd_with_price = data.groupby(\"brand\")[\"price\"].max().sort_values().reset_index().head(20)"
   ]
  },
  {
   "cell_type": "code",
   "execution_count": 64,
   "id": "df7a7c50",
   "metadata": {},
   "outputs": [
    {
     "data": {
      "text/html": [
       "<div>\n",
       "<style scoped>\n",
       "    .dataframe tbody tr th:only-of-type {\n",
       "        vertical-align: middle;\n",
       "    }\n",
       "\n",
       "    .dataframe tbody tr th {\n",
       "        vertical-align: top;\n",
       "    }\n",
       "\n",
       "    .dataframe thead th {\n",
       "        text-align: right;\n",
       "    }\n",
       "</style>\n",
       "<table border=\"1\" class=\"dataframe\">\n",
       "  <thead>\n",
       "    <tr style=\"text-align: right;\">\n",
       "      <th></th>\n",
       "      <th>brand</th>\n",
       "      <th>price</th>\n",
       "    </tr>\n",
       "  </thead>\n",
       "  <tbody>\n",
       "    <tr>\n",
       "      <th>0</th>\n",
       "      <td>LML</td>\n",
       "      <td>4400.0</td>\n",
       "    </tr>\n",
       "    <tr>\n",
       "      <th>1</th>\n",
       "      <td>Yezdi</td>\n",
       "      <td>68000.0</td>\n",
       "    </tr>\n",
       "    <tr>\n",
       "      <th>2</th>\n",
       "      <td>Rajdoot</td>\n",
       "      <td>75000.0</td>\n",
       "    </tr>\n",
       "    <tr>\n",
       "      <th>3</th>\n",
       "      <td>Ideal</td>\n",
       "      <td>100000.0</td>\n",
       "    </tr>\n",
       "    <tr>\n",
       "      <th>4</th>\n",
       "      <td>Hero</td>\n",
       "      <td>104000.0</td>\n",
       "    </tr>\n",
       "    <tr>\n",
       "      <th>5</th>\n",
       "      <td>Mahindra</td>\n",
       "      <td>175000.0</td>\n",
       "    </tr>\n",
       "    <tr>\n",
       "      <th>6</th>\n",
       "      <td>Bajaj</td>\n",
       "      <td>195000.0</td>\n",
       "    </tr>\n",
       "    <tr>\n",
       "      <th>7</th>\n",
       "      <td>Jawa</td>\n",
       "      <td>223000.0</td>\n",
       "    </tr>\n",
       "    <tr>\n",
       "      <th>8</th>\n",
       "      <td>TVS</td>\n",
       "      <td>224000.0</td>\n",
       "    </tr>\n",
       "    <tr>\n",
       "      <th>9</th>\n",
       "      <td>Royal Enfield</td>\n",
       "      <td>285000.0</td>\n",
       "    </tr>\n",
       "    <tr>\n",
       "      <th>10</th>\n",
       "      <td>Hyosung</td>\n",
       "      <td>493500.0</td>\n",
       "    </tr>\n",
       "    <tr>\n",
       "      <th>11</th>\n",
       "      <td>Benelli</td>\n",
       "      <td>785000.0</td>\n",
       "    </tr>\n",
       "    <tr>\n",
       "      <th>12</th>\n",
       "      <td>Honda</td>\n",
       "      <td>800000.0</td>\n",
       "    </tr>\n",
       "    <tr>\n",
       "      <th>13</th>\n",
       "      <td>KTM</td>\n",
       "      <td>860000.0</td>\n",
       "    </tr>\n",
       "    <tr>\n",
       "      <th>14</th>\n",
       "      <td>Harley-Davidson</td>\n",
       "      <td>1100000.0</td>\n",
       "    </tr>\n",
       "    <tr>\n",
       "      <th>15</th>\n",
       "      <td>Kawasaki</td>\n",
       "      <td>1100000.0</td>\n",
       "    </tr>\n",
       "    <tr>\n",
       "      <th>16</th>\n",
       "      <td>Suzuki</td>\n",
       "      <td>1260000.0</td>\n",
       "    </tr>\n",
       "    <tr>\n",
       "      <th>17</th>\n",
       "      <td>Triumph</td>\n",
       "      <td>1300000.0</td>\n",
       "    </tr>\n",
       "    <tr>\n",
       "      <th>18</th>\n",
       "      <td>MV</td>\n",
       "      <td>1500000.0</td>\n",
       "    </tr>\n",
       "    <tr>\n",
       "      <th>19</th>\n",
       "      <td>Ducati</td>\n",
       "      <td>1500000.0</td>\n",
       "    </tr>\n",
       "  </tbody>\n",
       "</table>\n",
       "</div>"
      ],
      "text/plain": [
       "              brand      price\n",
       "0               LML     4400.0\n",
       "1             Yezdi    68000.0\n",
       "2           Rajdoot    75000.0\n",
       "3             Ideal   100000.0\n",
       "4              Hero   104000.0\n",
       "5          Mahindra   175000.0\n",
       "6             Bajaj   195000.0\n",
       "7              Jawa   223000.0\n",
       "8               TVS   224000.0\n",
       "9     Royal Enfield   285000.0\n",
       "10          Hyosung   493500.0\n",
       "11          Benelli   785000.0\n",
       "12            Honda   800000.0\n",
       "13              KTM   860000.0\n",
       "14  Harley-Davidson  1100000.0\n",
       "15         Kawasaki  1100000.0\n",
       "16           Suzuki  1260000.0\n",
       "17          Triumph  1300000.0\n",
       "18               MV  1500000.0\n",
       "19           Ducati  1500000.0"
      ]
     },
     "execution_count": 64,
     "metadata": {},
     "output_type": "execute_result"
    }
   ],
   "source": [
    "top_20_barnd_with_price"
   ]
  },
  {
   "cell_type": "code",
   "execution_count": 65,
   "id": "63f3266d",
   "metadata": {},
   "outputs": [
    {
     "data": {
      "text/plain": [
       "(array([ 0,  1,  2,  3,  4,  5,  6,  7,  8,  9, 10, 11, 12, 13, 14, 15, 16,\n",
       "        17, 18, 19]),\n",
       " [Text(0, 0, 'LML'),\n",
       "  Text(1, 0, 'Yezdi'),\n",
       "  Text(2, 0, 'Rajdoot'),\n",
       "  Text(3, 0, 'Ideal'),\n",
       "  Text(4, 0, 'Hero'),\n",
       "  Text(5, 0, 'Mahindra'),\n",
       "  Text(6, 0, 'Bajaj'),\n",
       "  Text(7, 0, 'Jawa'),\n",
       "  Text(8, 0, 'TVS'),\n",
       "  Text(9, 0, 'Royal Enfield'),\n",
       "  Text(10, 0, 'Hyosung'),\n",
       "  Text(11, 0, 'Benelli'),\n",
       "  Text(12, 0, 'Honda'),\n",
       "  Text(13, 0, 'KTM'),\n",
       "  Text(14, 0, 'Harley-Davidson'),\n",
       "  Text(15, 0, 'Kawasaki'),\n",
       "  Text(16, 0, 'Suzuki'),\n",
       "  Text(17, 0, 'Triumph'),\n",
       "  Text(18, 0, 'MV'),\n",
       "  Text(19, 0, 'Ducati')])"
      ]
     },
     "execution_count": 65,
     "metadata": {},
     "output_type": "execute_result"
    },
    {
     "data": {
      "image/png": "[encoded data removed]",
      "text/plain": [
       "<Figure size 1500x700 with 1 Axes>"
      ]
     },
     "metadata": {},
     "output_type": "display_data"
    }
   ],
   "source": [
    "plt.figure(figsize=(15 , 7))\n",
    "sns.barplot(data=top_20_barnd_with_price , x=\"brand\", y=\"price\")\n",
    "plt.xticks(rotation =79)"
   ]
  },
  {
   "cell_type": "code",
   "execution_count": 35,
   "id": "3120076d",
   "metadata": {},
   "outputs": [
    {
     "data": {
      "text/html": [
       "<div>\n",
       "<style scoped>\n",
       "    .dataframe tbody tr th:only-of-type {\n",
       "        vertical-align: middle;\n",
       "    }\n",
       "\n",
       "    .dataframe tbody tr th {\n",
       "        vertical-align: top;\n",
       "    }\n",
       "\n",
       "    .dataframe thead th {\n",
       "        text-align: right;\n",
       "    }\n",
       "</style>\n",
       "<table border=\"1\" class=\"dataframe\">\n",
       "  <thead>\n",
       "    <tr style=\"text-align: right;\">\n",
       "      <th></th>\n",
       "      <th>bike_name</th>\n",
       "      <th>price</th>\n",
       "      <th>city</th>\n",
       "      <th>kms_driven</th>\n",
       "      <th>owner</th>\n",
       "      <th>age</th>\n",
       "      <th>power</th>\n",
       "      <th>brand</th>\n",
       "    </tr>\n",
       "  </thead>\n",
       "  <tbody>\n",
       "    <tr>\n",
       "      <th>0</th>\n",
       "      <td>TVS Star City Plus Dual Tone 110cc</td>\n",
       "      <td>35000.0</td>\n",
       "      <td>Ahmedabad</td>\n",
       "      <td>17654.0</td>\n",
       "      <td>First Owner</td>\n",
       "      <td>3.0</td>\n",
       "      <td>110.0</td>\n",
       "      <td>TVS</td>\n",
       "    </tr>\n",
       "  </tbody>\n",
       "</table>\n",
       "</div>"
      ],
      "text/plain": [
       "                            bike_name    price       city  kms_driven  \\\n",
       "0  TVS Star City Plus Dual Tone 110cc  35000.0  Ahmedabad     17654.0   \n",
       "\n",
       "         owner  age  power brand  \n",
       "0  First Owner  3.0  110.0   TVS  "
      ]
     },
     "execution_count": 35,
     "metadata": {},
     "output_type": "execute_result"
    }
   ],
   "source": [
    "data.head(1)"
   ]
  },
  {
   "cell_type": "code",
   "execution_count": 60,
   "id": "c1f67318",
   "metadata": {},
   "outputs": [],
   "source": [
    "top_20_bikepower_with_price = data.groupby(\"power\")[\"price\"].max().sort_values().reset_index().head(20)"
   ]
  },
  {
   "cell_type": "code",
   "execution_count": 61,
   "id": "5618e5f8",
   "metadata": {},
   "outputs": [
    {
     "data": {
      "text/html": [
       "<div>\n",
       "<style scoped>\n",
       "    .dataframe tbody tr th:only-of-type {\n",
       "        vertical-align: middle;\n",
       "    }\n",
       "\n",
       "    .dataframe tbody tr th {\n",
       "        vertical-align: top;\n",
       "    }\n",
       "\n",
       "    .dataframe thead th {\n",
       "        text-align: right;\n",
       "    }\n",
       "</style>\n",
       "<table border=\"1\" class=\"dataframe\">\n",
       "  <thead>\n",
       "    <tr style=\"text-align: right;\">\n",
       "      <th></th>\n",
       "      <th>power</th>\n",
       "      <th>price</th>\n",
       "    </tr>\n",
       "  </thead>\n",
       "  <tbody>\n",
       "    <tr>\n",
       "      <th>0</th>\n",
       "      <td>100.0</td>\n",
       "      <td>65000.0</td>\n",
       "    </tr>\n",
       "    <tr>\n",
       "      <th>1</th>\n",
       "      <td>149.0</td>\n",
       "      <td>65000.0</td>\n",
       "    </tr>\n",
       "    <tr>\n",
       "      <th>2</th>\n",
       "      <td>175.0</td>\n",
       "      <td>75000.0</td>\n",
       "    </tr>\n",
       "    <tr>\n",
       "      <th>3</th>\n",
       "      <td>135.0</td>\n",
       "      <td>85000.0</td>\n",
       "    </tr>\n",
       "    <tr>\n",
       "      <th>4</th>\n",
       "      <td>223.0</td>\n",
       "      <td>90000.0</td>\n",
       "    </tr>\n",
       "    <tr>\n",
       "      <th>5</th>\n",
       "      <td>180.0</td>\n",
       "      <td>90000.0</td>\n",
       "    </tr>\n",
       "    <tr>\n",
       "      <th>6</th>\n",
       "      <td>160.0</td>\n",
       "      <td>100000.0</td>\n",
       "    </tr>\n",
       "    <tr>\n",
       "      <th>7</th>\n",
       "      <td>110.0</td>\n",
       "      <td>100000.0</td>\n",
       "    </tr>\n",
       "    <tr>\n",
       "      <th>8</th>\n",
       "      <td>220.0</td>\n",
       "      <td>120000.0</td>\n",
       "    </tr>\n",
       "    <tr>\n",
       "      <th>9</th>\n",
       "      <td>150.0</td>\n",
       "      <td>145000.0</td>\n",
       "    </tr>\n",
       "    <tr>\n",
       "      <th>10</th>\n",
       "      <td>535.0</td>\n",
       "      <td>165000.0</td>\n",
       "    </tr>\n",
       "    <tr>\n",
       "      <th>11</th>\n",
       "      <td>125.0</td>\n",
       "      <td>178000.0</td>\n",
       "    </tr>\n",
       "    <tr>\n",
       "      <th>12</th>\n",
       "      <td>410.0</td>\n",
       "      <td>202000.0</td>\n",
       "    </tr>\n",
       "    <tr>\n",
       "      <th>13</th>\n",
       "      <td>295.0</td>\n",
       "      <td>223000.0</td>\n",
       "    </tr>\n",
       "    <tr>\n",
       "      <th>14</th>\n",
       "      <td>500.0</td>\n",
       "      <td>239000.0</td>\n",
       "    </tr>\n",
       "    <tr>\n",
       "      <th>15</th>\n",
       "      <td>350.0</td>\n",
       "      <td>250000.0</td>\n",
       "    </tr>\n",
       "    <tr>\n",
       "      <th>16</th>\n",
       "      <td>390.0</td>\n",
       "      <td>263000.0</td>\n",
       "    </tr>\n",
       "    <tr>\n",
       "      <th>17</th>\n",
       "      <td>400.0</td>\n",
       "      <td>300000.0</td>\n",
       "    </tr>\n",
       "    <tr>\n",
       "      <th>18</th>\n",
       "      <td>320.0</td>\n",
       "      <td>314100.0</td>\n",
       "    </tr>\n",
       "    <tr>\n",
       "      <th>19</th>\n",
       "      <td>250.0</td>\n",
       "      <td>335000.0</td>\n",
       "    </tr>\n",
       "  </tbody>\n",
       "</table>\n",
       "</div>"
      ],
      "text/plain": [
       "    power     price\n",
       "0   100.0   65000.0\n",
       "1   149.0   65000.0\n",
       "2   175.0   75000.0\n",
       "3   135.0   85000.0\n",
       "4   223.0   90000.0\n",
       "5   180.0   90000.0\n",
       "6   160.0  100000.0\n",
       "7   110.0  100000.0\n",
       "8   220.0  120000.0\n",
       "9   150.0  145000.0\n",
       "10  535.0  165000.0\n",
       "11  125.0  178000.0\n",
       "12  410.0  202000.0\n",
       "13  295.0  223000.0\n",
       "14  500.0  239000.0\n",
       "15  350.0  250000.0\n",
       "16  390.0  263000.0\n",
       "17  400.0  300000.0\n",
       "18  320.0  314100.0\n",
       "19  250.0  335000.0"
      ]
     },
     "execution_count": 61,
     "metadata": {},
     "output_type": "execute_result"
    }
   ],
   "source": [
    "top_20_bikepower_with_price"
   ]
  },
  {
   "cell_type": "code",
   "execution_count": 62,
   "id": "d2b3eb72",
   "metadata": {},
   "outputs": [
    {
     "data": {
      "text/plain": [
       "<Axes: xlabel='power', ylabel='price'>"
      ]
     },
     "execution_count": 62,
     "metadata": {},
     "output_type": "execute_result"
    },
    {
     "data": {
      "image/png": "[encoded data removed]",
      "text/plain": [
       "<Figure size 1500x700 with 1 Axes>"
      ]
     },
     "metadata": {},
     "output_type": "display_data"
    }
   ],
   "source": [
    "plt.figure(figsize=(15,7))\n",
    "sns.barplot(data=top_20_bikepower_with_price , x=\"power\", y=\"price\")"
   ]
  },
  {
   "cell_type": "code",
   "execution_count": 44,
   "id": "fd533c08",
   "metadata": {},
   "outputs": [
    {
     "data": {
      "text/html": [
       "<div>\n",
       "<style scoped>\n",
       "    .dataframe tbody tr th:only-of-type {\n",
       "        vertical-align: middle;\n",
       "    }\n",
       "\n",
       "    .dataframe tbody tr th {\n",
       "        vertical-align: top;\n",
       "    }\n",
       "\n",
       "    .dataframe thead th {\n",
       "        text-align: right;\n",
       "    }\n",
       "</style>\n",
       "<table border=\"1\" class=\"dataframe\">\n",
       "  <thead>\n",
       "    <tr style=\"text-align: right;\">\n",
       "      <th></th>\n",
       "      <th>bike_name</th>\n",
       "      <th>price</th>\n",
       "      <th>city</th>\n",
       "      <th>kms_driven</th>\n",
       "      <th>owner</th>\n",
       "      <th>age</th>\n",
       "      <th>power</th>\n",
       "      <th>brand</th>\n",
       "    </tr>\n",
       "  </thead>\n",
       "  <tbody>\n",
       "    <tr>\n",
       "      <th>0</th>\n",
       "      <td>TVS Star City Plus Dual Tone 110cc</td>\n",
       "      <td>35000.0</td>\n",
       "      <td>Ahmedabad</td>\n",
       "      <td>17654.0</td>\n",
       "      <td>First Owner</td>\n",
       "      <td>3.0</td>\n",
       "      <td>110.0</td>\n",
       "      <td>TVS</td>\n",
       "    </tr>\n",
       "  </tbody>\n",
       "</table>\n",
       "</div>"
      ],
      "text/plain": [
       "                            bike_name    price       city  kms_driven  \\\n",
       "0  TVS Star City Plus Dual Tone 110cc  35000.0  Ahmedabad     17654.0   \n",
       "\n",
       "         owner  age  power brand  \n",
       "0  First Owner  3.0  110.0   TVS  "
      ]
     },
     "execution_count": 44,
     "metadata": {},
     "output_type": "execute_result"
    }
   ],
   "source": [
    "data.head(1)"
   ]
  },
  {
   "cell_type": "code",
   "execution_count": 73,
   "id": "6e8a39a9",
   "metadata": {},
   "outputs": [
    {
     "data": {
      "text/plain": [
       "<Axes: xlabel='owner', ylabel='price'>"
      ]
     },
     "execution_count": 73,
     "metadata": {},
     "output_type": "execute_result"
    },
    {
     "data": {
      "image/png": "[encoded data removed]",
      "text/plain": [
       "<Figure size 640x480 with 1 Axes>"
      ]
     },
     "metadata": {},
     "output_type": "display_data"
    }
   ],
   "source": [
    "sns.barplot(data=data, x=\"owner\",y =\"price\")"
   ]
  },
  {
   "cell_type": "code",
   "execution_count": 74,
   "id": "08070069",
   "metadata": {},
   "outputs": [
    {
     "data": {
      "text/html": [
       "<div>\n",
       "<style scoped>\n",
       "    .dataframe tbody tr th:only-of-type {\n",
       "        vertical-align: middle;\n",
       "    }\n",
       "\n",
       "    .dataframe tbody tr th {\n",
       "        vertical-align: top;\n",
       "    }\n",
       "\n",
       "    .dataframe thead th {\n",
       "        text-align: right;\n",
       "    }\n",
       "</style>\n",
       "<table border=\"1\" class=\"dataframe\">\n",
       "  <thead>\n",
       "    <tr style=\"text-align: right;\">\n",
       "      <th></th>\n",
       "      <th>bike_name</th>\n",
       "      <th>price</th>\n",
       "      <th>city</th>\n",
       "      <th>kms_driven</th>\n",
       "      <th>owner</th>\n",
       "      <th>age</th>\n",
       "      <th>power</th>\n",
       "      <th>brand</th>\n",
       "    </tr>\n",
       "  </thead>\n",
       "  <tbody>\n",
       "    <tr>\n",
       "      <th>0</th>\n",
       "      <td>TVS Star City Plus Dual Tone 110cc</td>\n",
       "      <td>35000.0</td>\n",
       "      <td>Ahmedabad</td>\n",
       "      <td>17654.0</td>\n",
       "      <td>First Owner</td>\n",
       "      <td>3.0</td>\n",
       "      <td>110.0</td>\n",
       "      <td>TVS</td>\n",
       "    </tr>\n",
       "  </tbody>\n",
       "</table>\n",
       "</div>"
      ],
      "text/plain": [
       "                            bike_name    price       city  kms_driven  \\\n",
       "0  TVS Star City Plus Dual Tone 110cc  35000.0  Ahmedabad     17654.0   \n",
       "\n",
       "         owner  age  power brand  \n",
       "0  First Owner  3.0  110.0   TVS  "
      ]
     },
     "execution_count": 74,
     "metadata": {},
     "output_type": "execute_result"
    }
   ],
   "source": [
    "data.head(1)"
   ]
  },
  {
   "cell_type": "code",
   "execution_count": 83,
   "id": "2af513ee",
   "metadata": {},
   "outputs": [],
   "source": [
    "top_bikesprice_with_age = data.groupby(\"age\")[\"price\"].mean().sort_values(ascending=False).reset_index().head(20)"
   ]
  },
  {
   "cell_type": "code",
   "execution_count": 84,
   "id": "dd4525e0",
   "metadata": {},
   "outputs": [
    {
     "data": {
      "text/html": [
       "<div>\n",
       "<style scoped>\n",
       "    .dataframe tbody tr th:only-of-type {\n",
       "        vertical-align: middle;\n",
       "    }\n",
       "\n",
       "    .dataframe tbody tr th {\n",
       "        vertical-align: top;\n",
       "    }\n",
       "\n",
       "    .dataframe thead th {\n",
       "        text-align: right;\n",
       "    }\n",
       "</style>\n",
       "<table border=\"1\" class=\"dataframe\">\n",
       "  <thead>\n",
       "    <tr style=\"text-align: right;\">\n",
       "      <th></th>\n",
       "      <th>age</th>\n",
       "      <th>price</th>\n",
       "    </tr>\n",
       "  </thead>\n",
       "  <tbody>\n",
       "    <tr>\n",
       "      <th>0</th>\n",
       "      <td>1.0</td>\n",
       "      <td>299800.000000</td>\n",
       "    </tr>\n",
       "    <tr>\n",
       "      <th>1</th>\n",
       "      <td>27.0</td>\n",
       "      <td>169500.000000</td>\n",
       "    </tr>\n",
       "    <tr>\n",
       "      <th>2</th>\n",
       "      <td>2.0</td>\n",
       "      <td>148872.493243</td>\n",
       "    </tr>\n",
       "    <tr>\n",
       "      <th>3</th>\n",
       "      <td>3.0</td>\n",
       "      <td>129113.037383</td>\n",
       "    </tr>\n",
       "    <tr>\n",
       "      <th>4</th>\n",
       "      <td>38.0</td>\n",
       "      <td>120000.000000</td>\n",
       "    </tr>\n",
       "    <tr>\n",
       "      <th>5</th>\n",
       "      <td>4.0</td>\n",
       "      <td>119165.138504</td>\n",
       "    </tr>\n",
       "    <tr>\n",
       "      <th>6</th>\n",
       "      <td>43.0</td>\n",
       "      <td>115000.000000</td>\n",
       "    </tr>\n",
       "    <tr>\n",
       "      <th>7</th>\n",
       "      <td>37.0</td>\n",
       "      <td>112995.000000</td>\n",
       "    </tr>\n",
       "    <tr>\n",
       "      <th>8</th>\n",
       "      <td>39.0</td>\n",
       "      <td>102666.666667</td>\n",
       "    </tr>\n",
       "    <tr>\n",
       "      <th>9</th>\n",
       "      <td>26.0</td>\n",
       "      <td>99999.000000</td>\n",
       "    </tr>\n",
       "    <tr>\n",
       "      <th>10</th>\n",
       "      <td>5.0</td>\n",
       "      <td>99384.925681</td>\n",
       "    </tr>\n",
       "    <tr>\n",
       "      <th>11</th>\n",
       "      <td>6.0</td>\n",
       "      <td>90924.487236</td>\n",
       "    </tr>\n",
       "    <tr>\n",
       "      <th>12</th>\n",
       "      <td>31.0</td>\n",
       "      <td>90000.000000</td>\n",
       "    </tr>\n",
       "    <tr>\n",
       "      <th>13</th>\n",
       "      <td>41.0</td>\n",
       "      <td>87500.000000</td>\n",
       "    </tr>\n",
       "    <tr>\n",
       "      <th>14</th>\n",
       "      <td>23.0</td>\n",
       "      <td>73750.000000</td>\n",
       "    </tr>\n",
       "    <tr>\n",
       "      <th>15</th>\n",
       "      <td>7.0</td>\n",
       "      <td>72268.479784</td>\n",
       "    </tr>\n",
       "    <tr>\n",
       "      <th>16</th>\n",
       "      <td>63.0</td>\n",
       "      <td>70000.000000</td>\n",
       "    </tr>\n",
       "    <tr>\n",
       "      <th>17</th>\n",
       "      <td>22.0</td>\n",
       "      <td>67000.000000</td>\n",
       "    </tr>\n",
       "    <tr>\n",
       "      <th>18</th>\n",
       "      <td>34.0</td>\n",
       "      <td>65000.000000</td>\n",
       "    </tr>\n",
       "    <tr>\n",
       "      <th>19</th>\n",
       "      <td>8.0</td>\n",
       "      <td>52350.708333</td>\n",
       "    </tr>\n",
       "  </tbody>\n",
       "</table>\n",
       "</div>"
      ],
      "text/plain": [
       "     age          price\n",
       "0    1.0  299800.000000\n",
       "1   27.0  169500.000000\n",
       "2    2.0  148872.493243\n",
       "3    3.0  129113.037383\n",
       "4   38.0  120000.000000\n",
       "5    4.0  119165.138504\n",
       "6   43.0  115000.000000\n",
       "7   37.0  112995.000000\n",
       "8   39.0  102666.666667\n",
       "9   26.0   99999.000000\n",
       "10   5.0   99384.925681\n",
       "11   6.0   90924.487236\n",
       "12  31.0   90000.000000\n",
       "13  41.0   87500.000000\n",
       "14  23.0   73750.000000\n",
       "15   7.0   72268.479784\n",
       "16  63.0   70000.000000\n",
       "17  22.0   67000.000000\n",
       "18  34.0   65000.000000\n",
       "19   8.0   52350.708333"
      ]
     },
     "execution_count": 84,
     "metadata": {},
     "output_type": "execute_result"
    }
   ],
   "source": [
    "top_bikesprice_with_age"
   ]
  },
  {
   "cell_type": "code",
   "execution_count": 85,
   "id": "f4fc0415",
   "metadata": {},
   "outputs": [
    {
     "data": {
      "text/plain": [
       "<Axes: xlabel='age', ylabel='price'>"
      ]
     },
     "execution_count": 85,
     "metadata": {},
     "output_type": "execute_result"
    },
    {
     "data": {
      "image/png": "[encoded data removed]",
      "text/plain": [
       "<Figure size 1500x700 with 1 Axes>"
      ]
     },
     "metadata": {},
     "output_type": "display_data"
    }
   ],
   "source": [
    "plt.figure(figsize=(15 , 7))\n",
    "sns.barplot(data=top_bikesprice_with_age , x=\"age\", y=\"price\")"
   ]
  },
  {
   "cell_type": "code",
   "execution_count": 86,
   "id": "5c806c1c",
   "metadata": {},
   "outputs": [
    {
     "data": {
      "text/html": [
       "<div>\n",
       "<style scoped>\n",
       "    .dataframe tbody tr th:only-of-type {\n",
       "        vertical-align: middle;\n",
       "    }\n",
       "\n",
       "    .dataframe tbody tr th {\n",
       "        vertical-align: top;\n",
       "    }\n",
       "\n",
       "    .dataframe thead th {\n",
       "        text-align: right;\n",
       "    }\n",
       "</style>\n",
       "<table border=\"1\" class=\"dataframe\">\n",
       "  <thead>\n",
       "    <tr style=\"text-align: right;\">\n",
       "      <th></th>\n",
       "      <th>bike_name</th>\n",
       "      <th>price</th>\n",
       "      <th>city</th>\n",
       "      <th>kms_driven</th>\n",
       "      <th>owner</th>\n",
       "      <th>age</th>\n",
       "      <th>power</th>\n",
       "      <th>brand</th>\n",
       "    </tr>\n",
       "  </thead>\n",
       "  <tbody>\n",
       "    <tr>\n",
       "      <th>0</th>\n",
       "      <td>TVS Star City Plus Dual Tone 110cc</td>\n",
       "      <td>35000.0</td>\n",
       "      <td>Ahmedabad</td>\n",
       "      <td>17654.0</td>\n",
       "      <td>First Owner</td>\n",
       "      <td>3.0</td>\n",
       "      <td>110.0</td>\n",
       "      <td>TVS</td>\n",
       "    </tr>\n",
       "  </tbody>\n",
       "</table>\n",
       "</div>"
      ],
      "text/plain": [
       "                            bike_name    price       city  kms_driven  \\\n",
       "0  TVS Star City Plus Dual Tone 110cc  35000.0  Ahmedabad     17654.0   \n",
       "\n",
       "         owner  age  power brand  \n",
       "0  First Owner  3.0  110.0   TVS  "
      ]
     },
     "execution_count": 86,
     "metadata": {},
     "output_type": "execute_result"
    }
   ],
   "source": [
    "data.head(1)"
   ]
  },
  {
   "cell_type": "code",
   "execution_count": 98,
   "id": "202d4bd6",
   "metadata": {},
   "outputs": [],
   "source": [
    "top_bikesprice_with_kms_driven = data.groupby(\"kms_driven\")[\"price\"].max().sort_values(ascending=False).reset_index().head(20)"
   ]
  },
  {
   "cell_type": "code",
   "execution_count": 99,
   "id": "885d6e00",
   "metadata": {},
   "outputs": [
    {
     "data": {
      "text/html": [
       "<div>\n",
       "<style scoped>\n",
       "    .dataframe tbody tr th:only-of-type {\n",
       "        vertical-align: middle;\n",
       "    }\n",
       "\n",
       "    .dataframe tbody tr th {\n",
       "        vertical-align: top;\n",
       "    }\n",
       "\n",
       "    .dataframe thead th {\n",
       "        text-align: right;\n",
       "    }\n",
       "</style>\n",
       "<table border=\"1\" class=\"dataframe\">\n",
       "  <thead>\n",
       "    <tr style=\"text-align: right;\">\n",
       "      <th></th>\n",
       "      <th>kms_driven</th>\n",
       "      <th>price</th>\n",
       "    </tr>\n",
       "  </thead>\n",
       "  <tbody>\n",
       "    <tr>\n",
       "      <th>0</th>\n",
       "      <td>1700.0</td>\n",
       "      <td>1900000.0</td>\n",
       "    </tr>\n",
       "    <tr>\n",
       "      <th>1</th>\n",
       "      <td>2600.0</td>\n",
       "      <td>1800000.0</td>\n",
       "    </tr>\n",
       "    <tr>\n",
       "      <th>2</th>\n",
       "      <td>9800.0</td>\n",
       "      <td>1550000.0</td>\n",
       "    </tr>\n",
       "    <tr>\n",
       "      <th>3</th>\n",
       "      <td>18000.0</td>\n",
       "      <td>1500000.0</td>\n",
       "    </tr>\n",
       "    <tr>\n",
       "      <th>4</th>\n",
       "      <td>7000.0</td>\n",
       "      <td>1500000.0</td>\n",
       "    </tr>\n",
       "    <tr>\n",
       "      <th>5</th>\n",
       "      <td>2000.0</td>\n",
       "      <td>1500000.0</td>\n",
       "    </tr>\n",
       "    <tr>\n",
       "      <th>6</th>\n",
       "      <td>12500.0</td>\n",
       "      <td>1490000.0</td>\n",
       "    </tr>\n",
       "    <tr>\n",
       "      <th>7</th>\n",
       "      <td>340.0</td>\n",
       "      <td>1450000.0</td>\n",
       "    </tr>\n",
       "    <tr>\n",
       "      <th>8</th>\n",
       "      <td>3174.0</td>\n",
       "      <td>1400000.0</td>\n",
       "    </tr>\n",
       "    <tr>\n",
       "      <th>9</th>\n",
       "      <td>1911.0</td>\n",
       "      <td>1350000.0</td>\n",
       "    </tr>\n",
       "    <tr>\n",
       "      <th>10</th>\n",
       "      <td>4600.0</td>\n",
       "      <td>1350000.0</td>\n",
       "    </tr>\n",
       "    <tr>\n",
       "      <th>11</th>\n",
       "      <td>190.0</td>\n",
       "      <td>1350000.0</td>\n",
       "    </tr>\n",
       "    <tr>\n",
       "      <th>12</th>\n",
       "      <td>9500.0</td>\n",
       "      <td>1300000.0</td>\n",
       "    </tr>\n",
       "    <tr>\n",
       "      <th>13</th>\n",
       "      <td>17000.0</td>\n",
       "      <td>1260000.0</td>\n",
       "    </tr>\n",
       "    <tr>\n",
       "      <th>14</th>\n",
       "      <td>3800.0</td>\n",
       "      <td>1250000.0</td>\n",
       "    </tr>\n",
       "    <tr>\n",
       "      <th>15</th>\n",
       "      <td>4400.0</td>\n",
       "      <td>1220000.0</td>\n",
       "    </tr>\n",
       "    <tr>\n",
       "      <th>16</th>\n",
       "      <td>25800.0</td>\n",
       "      <td>1200000.0</td>\n",
       "    </tr>\n",
       "    <tr>\n",
       "      <th>17</th>\n",
       "      <td>31500.0</td>\n",
       "      <td>1170000.0</td>\n",
       "    </tr>\n",
       "    <tr>\n",
       "      <th>18</th>\n",
       "      <td>9875.0</td>\n",
       "      <td>1149000.0</td>\n",
       "    </tr>\n",
       "    <tr>\n",
       "      <th>19</th>\n",
       "      <td>2510.0</td>\n",
       "      <td>1100000.0</td>\n",
       "    </tr>\n",
       "  </tbody>\n",
       "</table>\n",
       "</div>"
      ],
      "text/plain": [
       "    kms_driven      price\n",
       "0       1700.0  1900000.0\n",
       "1       2600.0  1800000.0\n",
       "2       9800.0  1550000.0\n",
       "3      18000.0  1500000.0\n",
       "4       7000.0  1500000.0\n",
       "5       2000.0  1500000.0\n",
       "6      12500.0  1490000.0\n",
       "7        340.0  1450000.0\n",
       "8       3174.0  1400000.0\n",
       "9       1911.0  1350000.0\n",
       "10      4600.0  1350000.0\n",
       "11       190.0  1350000.0\n",
       "12      9500.0  1300000.0\n",
       "13     17000.0  1260000.0\n",
       "14      3800.0  1250000.0\n",
       "15      4400.0  1220000.0\n",
       "16     25800.0  1200000.0\n",
       "17     31500.0  1170000.0\n",
       "18      9875.0  1149000.0\n",
       "19      2510.0  1100000.0"
      ]
     },
     "execution_count": 99,
     "metadata": {},
     "output_type": "execute_result"
    }
   ],
   "source": [
    "top_bikesprice_with_kms_driven"
   ]
  },
  {
   "cell_type": "code",
   "execution_count": null,
   "id": "ea4853f7",
   "metadata": {},
   "outputs": [
    {
     "data": {
      "text/plain": [
       "<Axes: xlabel='kms_driven', ylabel='price'>"
      ]
     },
     "execution_count": 101,
     "metadata": {},
     "output_type": "execute_result"
    }
   ],
   "source": [
    "plt.figure(figsize=(15 , 7))\n",
    "sns.scatterplot(data=top_bikesprice_with_kms_driven , x=\"kms_driven\", y=\"price\")"
   ]
  },
  {
   "cell_type": "code",
   "execution_count": null,
   "id": "59027c06",
   "metadata": {},
   "outputs": [],
   "source": []
  }
 ],
 "metadata": {
  "kernelspec": {
   "display_name": "Python 3 (ipykernel)",
   "language": "python",
   "name": "python3"
  },
  "language_info": {
   "codemirror_mode": {
    "name": "ipython",
    "version": 3
   },
   "file_extension": ".py",
   "mimetype": "text/x-python",
   "name": "python",
   "nbconvert_exporter": "python",
   "pygments_lexer": "ipython3",
   "version": "3.8.8"
  }
 },
 "nbformat": 4,
 "nbformat_minor": 5
}
